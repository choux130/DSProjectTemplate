{
 "cells": [
  {
   "cell_type": "markdown",
   "metadata": {},
   "source": [
    "### Predict"
   ]
  },
  {
   "cell_type": "code",
   "execution_count": 1,
   "metadata": {},
   "outputs": [],
   "source": [
    "import mlflow.pyfunc\n",
    "import os \n",
    "import pandas as pd"
   ]
  },
  {
   "cell_type": "code",
   "execution_count": 2,
   "metadata": {},
   "outputs": [
    {
     "name": "stdout",
     "output_type": "stream",
     "text": [
      "/Users/chou/Desktop/mlflow_dvc_cookiecutter/DSProjectTemplate/notebooks/mlruns/1/f98a86efdc1441e6ba868509605a6bb8/artifacts/model/code\n"
     ]
    }
   ],
   "source": [
    "# load the model by passing the model path\n",
    "run_id = 'f98a86efdc1441e6ba868509605a6bb8'\n",
    "mlflow_pyfunc_model_path = os.getcwd() + '/mlruns/1/' + run_id + '/artifacts/model'\n",
    "# mlflow_pyfunc_model_path = 'wasbs://datascience-mlflow-artifacts@ting.blob.core.windows.net/3/7e8c41558a3e429882ecff3b46e3ff39/artifacts/model'\n",
    "loaded_model = mlflow.pyfunc.load_model(mlflow_pyfunc_model_path)"
   ]
  },
  {
   "cell_type": "code",
   "execution_count": 3,
   "metadata": {},
   "outputs": [
    {
     "data": {
      "text/plain": [
       "[5.38, 5.17, 4.99, 5.44, 5.21, 5.39, 5.97, 4.95, 5.19, 5.55]"
      ]
     },
     "execution_count": 3,
     "metadata": {},
     "output_type": "execute_result"
    }
   ],
   "source": [
    "# file and directory info\n",
    "project_dir = os.path.dirname(os.getcwd())\n",
    "interim_folder = '/data/interim/'\n",
    "\n",
    "# take test dataset as pred\n",
    "model_input = pd.read_parquet(project_dir + interim_folder + 'test.parquet')\n",
    "# predict\n",
    "pred = loaded_model.predict(model_input)\n",
    "pred.tolist()[0:10]"
   ]
  },
  {
   "cell_type": "code",
   "execution_count": null,
   "metadata": {},
   "outputs": [],
   "source": [
    "# # serve the model locally with port 1234\n",
    "# mlflow models serve -m <mlflow_pyfunc_model_path> -p 1234\n",
    "# # get prediction using POST\n",
    "# curl http://127.0.0.1:1234/invocations -H \"Content-Type:application/json; format=pandas-split\" --data '{\"columns\":[\"alcohol\", \"chlorides\", \"citric acid\", \"density\", \"fixed acidity\", \"free sulfur dioxide\", \"pH\", \"residual sugar\", \"sulphates\", \"total sulfur dioxide\", \"volatile acidity\"],\"data\":[[1,1, 1, 1, 1, 1, 1, 1, 1, 1, 1]]}'"
   ]
  }
 ],
 "metadata": {
  "kernelspec": {
   "display_name": "python3 (project_template)",
   "language": "python",
   "name": "project_template"
  },
  "language_info": {
   "codemirror_mode": {
    "name": "ipython",
    "version": 3
   },
   "file_extension": ".py",
   "mimetype": "text/x-python",
   "name": "python",
   "nbconvert_exporter": "python",
   "pygments_lexer": "ipython3",
   "version": "3.7.6"
  }
 },
 "nbformat": 4,
 "nbformat_minor": 4
}
