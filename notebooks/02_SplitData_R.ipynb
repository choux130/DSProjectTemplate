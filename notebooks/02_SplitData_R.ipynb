{
 "cells": [
  {
   "cell_type": "markdown",
   "metadata": {},
   "source": [
    "### Split Data into Train and Test dataset\n",
    "\n",
    "#### Input \n",
    "* winequality-red.csv\n",
    "\n",
    "#### Output\n",
    "* train.parquet\n",
    "* test.parquet"
   ]
  },
  {
   "cell_type": "code",
   "execution_count": 1,
   "metadata": {},
   "outputs": [],
   "source": [
    "# params\n",
    "random_seed = 123\n",
    "percent_train = 0.8"
   ]
  },
  {
   "cell_type": "code",
   "execution_count": 2,
   "metadata": {},
   "outputs": [],
   "source": [
    "suppressMessages(library(dplyr))\n",
    "\n",
    "# file and directory info\n",
    "file_name = 'winequality-red.csv'\n",
    "project_dir = dirname(getwd())\n",
    "raw_folder = \"/data/raw/\"\n",
    "interim_folder = \"/data/interim/\"\n",
    "\n",
    "# input\n",
    "raw_data = data.table::fread(paste0(project_dir, raw_folder, file_name), fill = TRUE) %>%\n",
    "dplyr::as_tibble(.)\n",
    "\n",
    "# functions\n",
    "SplitData = function(raw_data, random_seed, percent_train){\n",
    "    set.seed(random_seed)\n",
    "    \n",
    "    train_index = sample(1:nrow(raw_data), percent_train * nrow(raw_data))\n",
    "    test_index = setdiff(1:nrow(raw_data), train_index)\n",
    "\n",
    "    train = raw_data[train_index, ]\n",
    "    test = raw_data[test_index, ]\n",
    "    \n",
    "    return(list(train = train, test = test))\n",
    "}\n",
    "\n",
    "# ouptut and save\n",
    "train_test = SplitData(raw_data, random_seed, percent_train)\n",
    "arrow::write_parquet(train_test$train, paste0(project_dir, interim_folder, \"train.parquet\"))\n",
    "arrow::write_parquet(train_test$test, paste0(project_dir, interim_folder, \"test.parquet\"))"
   ]
  },
  {
   "cell_type": "code",
   "execution_count": 3,
   "metadata": {},
   "outputs": [
    {
     "data": {
      "text/html": [
       "<ol class=list-inline>\n",
       "\t<li>1599</li>\n",
       "\t<li>12</li>\n",
       "</ol>\n"
      ],
      "text/latex": [
       "\\begin{enumerate*}\n",
       "\\item 1599\n",
       "\\item 12\n",
       "\\end{enumerate*}\n"
      ],
      "text/markdown": [
       "1. 1599\n",
       "2. 12\n",
       "\n",
       "\n"
      ],
      "text/plain": [
       "[1] 1599   12"
      ]
     },
     "metadata": {},
     "output_type": "display_data"
    },
    {
     "data": {
      "text/html": [
       "<table>\n",
       "<thead><tr><th scope=col>fixed acidity</th><th scope=col>volatile acidity</th><th scope=col>citric acid</th><th scope=col>residual sugar</th><th scope=col>chlorides</th><th scope=col>free sulfur dioxide</th><th scope=col>total sulfur dioxide</th><th scope=col>density</th><th scope=col>pH</th><th scope=col>sulphates</th><th scope=col>alcohol</th><th scope=col>quality</th></tr></thead>\n",
       "<tbody>\n",
       "\t<tr><td> 7.4  </td><td>0.70  </td><td>0.00  </td><td>1.9   </td><td>0.076 </td><td>11    </td><td>34    </td><td>0.9978</td><td>3.51  </td><td>0.56  </td><td>9.4   </td><td>5     </td></tr>\n",
       "\t<tr><td> 7.8  </td><td>0.88  </td><td>0.00  </td><td>2.6   </td><td>0.098 </td><td>25    </td><td>67    </td><td>0.9968</td><td>3.20  </td><td>0.68  </td><td>9.8   </td><td>5     </td></tr>\n",
       "\t<tr><td> 7.8  </td><td>0.76  </td><td>0.04  </td><td>2.3   </td><td>0.092 </td><td>15    </td><td>54    </td><td>0.9970</td><td>3.26  </td><td>0.65  </td><td>9.8   </td><td>5     </td></tr>\n",
       "\t<tr><td>11.2  </td><td>0.28  </td><td>0.56  </td><td>1.9   </td><td>0.075 </td><td>17    </td><td>60    </td><td>0.9980</td><td>3.16  </td><td>0.58  </td><td>9.8   </td><td>6     </td></tr>\n",
       "\t<tr><td> 7.4  </td><td>0.70  </td><td>0.00  </td><td>1.9   </td><td>0.076 </td><td>11    </td><td>34    </td><td>0.9978</td><td>3.51  </td><td>0.56  </td><td>9.4   </td><td>5     </td></tr>\n",
       "\t<tr><td> 7.4  </td><td>0.66  </td><td>0.00  </td><td>1.8   </td><td>0.075 </td><td>13    </td><td>40    </td><td>0.9978</td><td>3.51  </td><td>0.56  </td><td>9.4   </td><td>5     </td></tr>\n",
       "</tbody>\n",
       "</table>\n"
      ],
      "text/latex": [
       "\\begin{tabular}{r|llllllllllll}\n",
       " fixed acidity & volatile acidity & citric acid & residual sugar & chlorides & free sulfur dioxide & total sulfur dioxide & density & pH & sulphates & alcohol & quality\\\\\n",
       "\\hline\n",
       "\t  7.4   & 0.70   & 0.00   & 1.9    & 0.076  & 11     & 34     & 0.9978 & 3.51   & 0.56   & 9.4    & 5     \\\\\n",
       "\t  7.8   & 0.88   & 0.00   & 2.6    & 0.098  & 25     & 67     & 0.9968 & 3.20   & 0.68   & 9.8    & 5     \\\\\n",
       "\t  7.8   & 0.76   & 0.04   & 2.3    & 0.092  & 15     & 54     & 0.9970 & 3.26   & 0.65   & 9.8    & 5     \\\\\n",
       "\t 11.2   & 0.28   & 0.56   & 1.9    & 0.075  & 17     & 60     & 0.9980 & 3.16   & 0.58   & 9.8    & 6     \\\\\n",
       "\t  7.4   & 0.70   & 0.00   & 1.9    & 0.076  & 11     & 34     & 0.9978 & 3.51   & 0.56   & 9.4    & 5     \\\\\n",
       "\t  7.4   & 0.66   & 0.00   & 1.8    & 0.075  & 13     & 40     & 0.9978 & 3.51   & 0.56   & 9.4    & 5     \\\\\n",
       "\\end{tabular}\n"
      ],
      "text/markdown": [
       "\n",
       "| fixed acidity | volatile acidity | citric acid | residual sugar | chlorides | free sulfur dioxide | total sulfur dioxide | density | pH | sulphates | alcohol | quality |\n",
       "|---|---|---|---|---|---|---|---|---|---|---|---|\n",
       "|  7.4   | 0.70   | 0.00   | 1.9    | 0.076  | 11     | 34     | 0.9978 | 3.51   | 0.56   | 9.4    | 5      |\n",
       "|  7.8   | 0.88   | 0.00   | 2.6    | 0.098  | 25     | 67     | 0.9968 | 3.20   | 0.68   | 9.8    | 5      |\n",
       "|  7.8   | 0.76   | 0.04   | 2.3    | 0.092  | 15     | 54     | 0.9970 | 3.26   | 0.65   | 9.8    | 5      |\n",
       "| 11.2   | 0.28   | 0.56   | 1.9    | 0.075  | 17     | 60     | 0.9980 | 3.16   | 0.58   | 9.8    | 6      |\n",
       "|  7.4   | 0.70   | 0.00   | 1.9    | 0.076  | 11     | 34     | 0.9978 | 3.51   | 0.56   | 9.4    | 5      |\n",
       "|  7.4   | 0.66   | 0.00   | 1.8    | 0.075  | 13     | 40     | 0.9978 | 3.51   | 0.56   | 9.4    | 5      |\n",
       "\n"
      ],
      "text/plain": [
       "  fixed acidity volatile acidity citric acid residual sugar chlorides\n",
       "1  7.4          0.70             0.00        1.9            0.076    \n",
       "2  7.8          0.88             0.00        2.6            0.098    \n",
       "3  7.8          0.76             0.04        2.3            0.092    \n",
       "4 11.2          0.28             0.56        1.9            0.075    \n",
       "5  7.4          0.70             0.00        1.9            0.076    \n",
       "6  7.4          0.66             0.00        1.8            0.075    \n",
       "  free sulfur dioxide total sulfur dioxide density pH   sulphates alcohol\n",
       "1 11                  34                   0.9978  3.51 0.56      9.4    \n",
       "2 25                  67                   0.9968  3.20 0.68      9.8    \n",
       "3 15                  54                   0.9970  3.26 0.65      9.8    \n",
       "4 17                  60                   0.9980  3.16 0.58      9.8    \n",
       "5 11                  34                   0.9978  3.51 0.56      9.4    \n",
       "6 13                  40                   0.9978  3.51 0.56      9.4    \n",
       "  quality\n",
       "1 5      \n",
       "2 5      \n",
       "3 5      \n",
       "4 6      \n",
       "5 5      \n",
       "6 5      "
      ]
     },
     "metadata": {},
     "output_type": "display_data"
    }
   ],
   "source": [
    "dim(raw_data)\n",
    "head(raw_data)"
   ]
  },
  {
   "cell_type": "code",
   "execution_count": 4,
   "metadata": {},
   "outputs": [
    {
     "data": {
      "text/html": [
       "<dl>\n",
       "\t<dt>$train</dt>\n",
       "\t\t<dd><ol class=list-inline>\n",
       "\t<li>1279</li>\n",
       "\t<li>12</li>\n",
       "</ol>\n",
       "</dd>\n",
       "\t<dt>$test</dt>\n",
       "\t\t<dd><ol class=list-inline>\n",
       "\t<li>320</li>\n",
       "\t<li>12</li>\n",
       "</ol>\n",
       "</dd>\n",
       "</dl>\n"
      ],
      "text/latex": [
       "\\begin{description}\n",
       "\\item[\\$train] \\begin{enumerate*}\n",
       "\\item 1279\n",
       "\\item 12\n",
       "\\end{enumerate*}\n",
       "\n",
       "\\item[\\$test] \\begin{enumerate*}\n",
       "\\item 320\n",
       "\\item 12\n",
       "\\end{enumerate*}\n",
       "\n",
       "\\end{description}\n"
      ],
      "text/markdown": [
       "$train\n",
       ":   1. 1279\n",
       "2. 12\n",
       "\n",
       "\n",
       "\n",
       "$test\n",
       ":   1. 320\n",
       "2. 12\n",
       "\n",
       "\n",
       "\n",
       "\n",
       "\n"
      ],
      "text/plain": [
       "$train\n",
       "[1] 1279   12\n",
       "\n",
       "$test\n",
       "[1] 320  12\n"
      ]
     },
     "metadata": {},
     "output_type": "display_data"
    },
    {
     "data": {
      "text/html": [
       "<dl>\n",
       "\t<dt>$train</dt>\n",
       "\t\t<dd><table>\n",
       "<thead><tr><th scope=col>fixed acidity</th><th scope=col>volatile acidity</th><th scope=col>citric acid</th><th scope=col>residual sugar</th><th scope=col>chlorides</th><th scope=col>free sulfur dioxide</th><th scope=col>total sulfur dioxide</th><th scope=col>density</th><th scope=col>pH</th><th scope=col>sulphates</th><th scope=col>alcohol</th><th scope=col>quality</th></tr></thead>\n",
       "<tbody>\n",
       "\t<tr><td> 8.8   </td><td>0.520  </td><td>0.34   </td><td>2.70   </td><td>0.087  </td><td>24     </td><td>122    </td><td>0.99820</td><td>3.26   </td><td>0.61   </td><td> 9.5   </td><td>5      </td></tr>\n",
       "\t<tr><td>11.0   </td><td>0.260  </td><td>0.68   </td><td>2.55   </td><td>0.085  </td><td>10     </td><td> 25    </td><td>0.99700</td><td>3.18   </td><td>0.61   </td><td>11.8   </td><td>5      </td></tr>\n",
       "\t<tr><td> 7.0   </td><td>0.805  </td><td>0.00   </td><td>2.50   </td><td>0.068  </td><td> 7     </td><td> 20    </td><td>0.99690</td><td>3.48   </td><td>0.56   </td><td> 9.6   </td><td>5      </td></tr>\n",
       "\t<tr><td>10.4   </td><td>0.640  </td><td>0.24   </td><td>2.80   </td><td>0.105  </td><td>29     </td><td> 53    </td><td>0.99980</td><td>3.24   </td><td>0.67   </td><td> 9.9   </td><td>5      </td></tr>\n",
       "\t<tr><td> 7.6   </td><td>0.550  </td><td>0.21   </td><td>2.20   </td><td>0.071  </td><td> 7     </td><td> 28    </td><td>0.99640</td><td>3.28   </td><td>0.55   </td><td> 9.7   </td><td>5      </td></tr>\n",
       "\t<tr><td>12.0   </td><td>0.630  </td><td>0.50   </td><td>1.40   </td><td>0.071  </td><td> 6     </td><td> 26    </td><td>0.99791</td><td>3.07   </td><td>0.60   </td><td>10.4   </td><td>4      </td></tr>\n",
       "</tbody>\n",
       "</table>\n",
       "</dd>\n",
       "\t<dt>$test</dt>\n",
       "\t\t<dd><table>\n",
       "<thead><tr><th scope=col>fixed acidity</th><th scope=col>volatile acidity</th><th scope=col>citric acid</th><th scope=col>residual sugar</th><th scope=col>chlorides</th><th scope=col>free sulfur dioxide</th><th scope=col>total sulfur dioxide</th><th scope=col>density</th><th scope=col>pH</th><th scope=col>sulphates</th><th scope=col>alcohol</th><th scope=col>quality</th></tr></thead>\n",
       "<tbody>\n",
       "\t<tr><td>7.8   </td><td>0.76  </td><td>0.04  </td><td>2.3   </td><td>0.092 </td><td>15    </td><td> 54   </td><td>0.9970</td><td>3.26  </td><td>0.65  </td><td>9.8   </td><td>5     </td></tr>\n",
       "\t<tr><td>7.9   </td><td>0.60  </td><td>0.06  </td><td>1.6   </td><td>0.069 </td><td>15    </td><td> 59   </td><td>0.9964</td><td>3.30  </td><td>0.46  </td><td>9.4   </td><td>5     </td></tr>\n",
       "\t<tr><td>8.9   </td><td>0.62  </td><td>0.18  </td><td>3.8   </td><td>0.176 </td><td>52    </td><td>145   </td><td>0.9986</td><td>3.16  </td><td>0.88  </td><td>9.2   </td><td>5     </td></tr>\n",
       "\t<tr><td>7.6   </td><td>0.39  </td><td>0.31  </td><td>2.3   </td><td>0.082 </td><td>23    </td><td> 71   </td><td>0.9982</td><td>3.52  </td><td>0.65  </td><td>9.7   </td><td>5     </td></tr>\n",
       "\t<tr><td>7.9   </td><td>0.43  </td><td>0.21  </td><td>1.6   </td><td>0.106 </td><td>10    </td><td> 37   </td><td>0.9966</td><td>3.17  </td><td>0.91  </td><td>9.5   </td><td>5     </td></tr>\n",
       "\t<tr><td>7.6   </td><td>0.41  </td><td>0.24  </td><td>1.8   </td><td>0.080 </td><td> 4    </td><td> 11   </td><td>0.9962</td><td>3.28  </td><td>0.59  </td><td>9.5   </td><td>5     </td></tr>\n",
       "</tbody>\n",
       "</table>\n",
       "</dd>\n",
       "</dl>\n"
      ],
      "text/latex": [
       "\\begin{description}\n",
       "\\item[\\$train] \\begin{tabular}{r|llllllllllll}\n",
       " fixed acidity & volatile acidity & citric acid & residual sugar & chlorides & free sulfur dioxide & total sulfur dioxide & density & pH & sulphates & alcohol & quality\\\\\n",
       "\\hline\n",
       "\t  8.8    & 0.520   & 0.34    & 2.70    & 0.087   & 24      & 122     & 0.99820 & 3.26    & 0.61    &  9.5    & 5      \\\\\n",
       "\t 11.0    & 0.260   & 0.68    & 2.55    & 0.085   & 10      &  25     & 0.99700 & 3.18    & 0.61    & 11.8    & 5      \\\\\n",
       "\t  7.0    & 0.805   & 0.00    & 2.50    & 0.068   &  7      &  20     & 0.99690 & 3.48    & 0.56    &  9.6    & 5      \\\\\n",
       "\t 10.4    & 0.640   & 0.24    & 2.80    & 0.105   & 29      &  53     & 0.99980 & 3.24    & 0.67    &  9.9    & 5      \\\\\n",
       "\t  7.6    & 0.550   & 0.21    & 2.20    & 0.071   &  7      &  28     & 0.99640 & 3.28    & 0.55    &  9.7    & 5      \\\\\n",
       "\t 12.0    & 0.630   & 0.50    & 1.40    & 0.071   &  6      &  26     & 0.99791 & 3.07    & 0.60    & 10.4    & 4      \\\\\n",
       "\\end{tabular}\n",
       "\n",
       "\\item[\\$test] \\begin{tabular}{r|llllllllllll}\n",
       " fixed acidity & volatile acidity & citric acid & residual sugar & chlorides & free sulfur dioxide & total sulfur dioxide & density & pH & sulphates & alcohol & quality\\\\\n",
       "\\hline\n",
       "\t 7.8    & 0.76   & 0.04   & 2.3    & 0.092  & 15     &  54    & 0.9970 & 3.26   & 0.65   & 9.8    & 5     \\\\\n",
       "\t 7.9    & 0.60   & 0.06   & 1.6    & 0.069  & 15     &  59    & 0.9964 & 3.30   & 0.46   & 9.4    & 5     \\\\\n",
       "\t 8.9    & 0.62   & 0.18   & 3.8    & 0.176  & 52     & 145    & 0.9986 & 3.16   & 0.88   & 9.2    & 5     \\\\\n",
       "\t 7.6    & 0.39   & 0.31   & 2.3    & 0.082  & 23     &  71    & 0.9982 & 3.52   & 0.65   & 9.7    & 5     \\\\\n",
       "\t 7.9    & 0.43   & 0.21   & 1.6    & 0.106  & 10     &  37    & 0.9966 & 3.17   & 0.91   & 9.5    & 5     \\\\\n",
       "\t 7.6    & 0.41   & 0.24   & 1.8    & 0.080  &  4     &  11    & 0.9962 & 3.28   & 0.59   & 9.5    & 5     \\\\\n",
       "\\end{tabular}\n",
       "\n",
       "\\end{description}\n"
      ],
      "text/markdown": [
       "$train\n",
       ":   \n",
       "| fixed acidity | volatile acidity | citric acid | residual sugar | chlorides | free sulfur dioxide | total sulfur dioxide | density | pH | sulphates | alcohol | quality |\n",
       "|---|---|---|---|---|---|---|---|---|---|---|---|\n",
       "|  8.8    | 0.520   | 0.34    | 2.70    | 0.087   | 24      | 122     | 0.99820 | 3.26    | 0.61    |  9.5    | 5       |\n",
       "| 11.0    | 0.260   | 0.68    | 2.55    | 0.085   | 10      |  25     | 0.99700 | 3.18    | 0.61    | 11.8    | 5       |\n",
       "|  7.0    | 0.805   | 0.00    | 2.50    | 0.068   |  7      |  20     | 0.99690 | 3.48    | 0.56    |  9.6    | 5       |\n",
       "| 10.4    | 0.640   | 0.24    | 2.80    | 0.105   | 29      |  53     | 0.99980 | 3.24    | 0.67    |  9.9    | 5       |\n",
       "|  7.6    | 0.550   | 0.21    | 2.20    | 0.071   |  7      |  28     | 0.99640 | 3.28    | 0.55    |  9.7    | 5       |\n",
       "| 12.0    | 0.630   | 0.50    | 1.40    | 0.071   |  6      |  26     | 0.99791 | 3.07    | 0.60    | 10.4    | 4       |\n",
       "\n",
       "\n",
       "$test\n",
       ":   \n",
       "| fixed acidity | volatile acidity | citric acid | residual sugar | chlorides | free sulfur dioxide | total sulfur dioxide | density | pH | sulphates | alcohol | quality |\n",
       "|---|---|---|---|---|---|---|---|---|---|---|---|\n",
       "| 7.8    | 0.76   | 0.04   | 2.3    | 0.092  | 15     |  54    | 0.9970 | 3.26   | 0.65   | 9.8    | 5      |\n",
       "| 7.9    | 0.60   | 0.06   | 1.6    | 0.069  | 15     |  59    | 0.9964 | 3.30   | 0.46   | 9.4    | 5      |\n",
       "| 8.9    | 0.62   | 0.18   | 3.8    | 0.176  | 52     | 145    | 0.9986 | 3.16   | 0.88   | 9.2    | 5      |\n",
       "| 7.6    | 0.39   | 0.31   | 2.3    | 0.082  | 23     |  71    | 0.9982 | 3.52   | 0.65   | 9.7    | 5      |\n",
       "| 7.9    | 0.43   | 0.21   | 1.6    | 0.106  | 10     |  37    | 0.9966 | 3.17   | 0.91   | 9.5    | 5      |\n",
       "| 7.6    | 0.41   | 0.24   | 1.8    | 0.080  |  4     |  11    | 0.9962 | 3.28   | 0.59   | 9.5    | 5      |\n",
       "\n",
       "\n",
       "\n",
       "\n"
      ],
      "text/plain": [
       "$train\n",
       "# A tibble: 6 x 12\n",
       "  `fixed acidity` `volatile acidi… `citric acid` `residual sugar` chlorides\n",
       "            <dbl>            <dbl>         <dbl>            <dbl>     <dbl>\n",
       "1             8.8            0.52           0.34             2.7      0.087\n",
       "2            11              0.26           0.68             2.55     0.085\n",
       "3             7              0.805          0                2.5      0.068\n",
       "4            10.4            0.64           0.24             2.8      0.105\n",
       "5             7.6            0.55           0.21             2.2      0.071\n",
       "6            12              0.63           0.5              1.4      0.071\n",
       "# … with 7 more variables: `free sulfur dioxide` <dbl>, `total sulfur\n",
       "#   dioxide` <dbl>, density <dbl>, pH <dbl>, sulphates <dbl>, alcohol <dbl>,\n",
       "#   quality <int>\n",
       "\n",
       "$test\n",
       "# A tibble: 6 x 12\n",
       "  `fixed acidity` `volatile acidi… `citric acid` `residual sugar` chlorides\n",
       "            <dbl>            <dbl>         <dbl>            <dbl>     <dbl>\n",
       "1             7.8             0.76          0.04              2.3    0.092 \n",
       "2             7.9             0.6           0.06              1.6    0.069 \n",
       "3             8.9             0.62          0.18              3.8    0.176 \n",
       "4             7.6             0.39          0.31              2.3    0.0820\n",
       "5             7.9             0.43          0.21              1.6    0.106 \n",
       "6             7.6             0.41          0.24              1.8    0.08  \n",
       "# … with 7 more variables: `free sulfur dioxide` <dbl>, `total sulfur\n",
       "#   dioxide` <dbl>, density <dbl>, pH <dbl>, sulphates <dbl>, alcohol <dbl>,\n",
       "#   quality <int>\n"
      ]
     },
     "metadata": {},
     "output_type": "display_data"
    }
   ],
   "source": [
    "lapply(train_test, dim)\n",
    "lapply(train_test, head)"
   ]
  }
 ],
 "metadata": {
  "kernelspec": {
   "display_name": "R",
   "language": "R",
   "name": "ir"
  },
  "language_info": {
   "codemirror_mode": "r",
   "file_extension": ".r",
   "mimetype": "text/x-r-source",
   "name": "R",
   "pygments_lexer": "r",
   "version": "3.6.1"
  }
 },
 "nbformat": 4,
 "nbformat_minor": 4
}
