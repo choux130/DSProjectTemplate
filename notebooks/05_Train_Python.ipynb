{
 "cells": [
  {
   "cell_type": "markdown",
   "metadata": {},
   "source": [
    "### Train Model and log performance on test dataset in MLflow\n",
    "\n",
    "#### Input\n",
    "* train_X.parquet\n",
    "* train_Y.parquet\n",
    "* test_X.parquet\n",
    "* test_Y.parquet\n",
    "\n",
    "#### Output\n",
    "* params\n",
    "* metrics\n",
    "* model"
   ]
  },
  {
   "cell_type": "code",
   "execution_count": 1,
   "metadata": {},
   "outputs": [],
   "source": [
    "import os\n",
    "import pandas as pd\n",
    "import numpy as np\n",
    "import mlflow\n",
    "import mlflow.sklearn\n",
    "\n",
    "from sklearn import tree\n",
    "from sklearn.metrics import explained_variance_score, mean_squared_error\n",
    "\n",
    "# params\n",
    "random_seed = 123\n",
    "percent_train = 0.8\n",
    "method = \"mean\" # {\"mean\", \"median\"}\n",
    "\n",
    "criterion = \"mse\" # {“mse”, “friedman_mse”, “mae”}\n",
    "max_depth = 1000"
   ]
  },
  {
   "cell_type": "code",
   "execution_count": 2,
   "metadata": {},
   "outputs": [
    {
     "name": "stdout",
     "output_type": "stream",
     "text": [
      "DecisionTreeRegressor model (criterion=mse, max_depth=1000.000000):\n",
      "  Explained Variance Score : 0.02820683238069932\n",
      "  MSE: 0.7612244897959184\n"
     ]
    }
   ],
   "source": [
    "# file and directory info\n",
    "project_dir = '/Users/chou/Desktop/mlflow_dvc_cookiecutter/DSProjectTemplate'\n",
    "interim_folder = \"/data/interim/\"\n",
    "processed_folder = \"/data/processed/\"\n",
    "src_folder = \"/src/\"\n",
    "\n",
    "# functions\n",
    "def eval_metrics(actual, pred):\n",
    "    exp_var = explained_variance_score(actual, pred)\n",
    "    mse = mean_squared_error(actual, pred)\n",
    "    return exp_var, mse\n",
    "\n",
    "# LoadData\n",
    "script_path = project_dir + src_folder + \"01_LoadData_Python.py\" \n",
    "os.system(\"python %s\" % (script_path))\n",
    "\n",
    "# SplitData\n",
    "script_path = project_dir + src_folder + \"02_SplitData_R.R\" \n",
    "os.system(\"Rscript %s %f %f\" % (script_path, random_seed, percent_train))\n",
    "\n",
    "# CreateEncoder\n",
    "script_path = project_dir + src_folder + \"03_CreateEncoder_R.R\" \n",
    "os.system(\"Rscript %s %s\" % (script_path, method))\n",
    "\n",
    "# Feture\n",
    "script_path = project_dir + src_folder + \"04_Feature_R.R\" \n",
    "os.system(\"Rscript %s\" % (script_path))\n",
    "\n",
    "# Train\n",
    "# input\n",
    "train_X = pd.read_parquet(project_dir + interim_folder + 'train_X.parquet')\n",
    "train_Y = pd.read_parquet(project_dir + interim_folder + 'train_Y.parquet')\n",
    "test_X = pd.read_parquet(project_dir + interim_folder + 'test_X.parquet')\n",
    "test_Y = pd.read_parquet(project_dir + interim_folder + 'test_Y.parquet')\n",
    "test_Y = test_Y.iloc[:,0].to_numpy()\n",
    "\n",
    "model = tree.DecisionTreeRegressor(criterion = criterion, max_depth = max_depth)\n",
    "model = model.fit(train_X, train_Y)\n",
    "\n",
    "test_pred = model.predict(test_X)\n",
    "(exp_var, mse) = eval_metrics(test_Y, test_pred)\n",
    "\n",
    "print(\"DecisionTreeRegressor model (criterion=%s, max_depth=%f):\" % (criterion, max_depth))\n",
    "print(\"  Explained Variance Score : %s\" % exp_var)\n",
    "print(\"  MSE: %s\" % mse)"
   ]
  },
  {
   "cell_type": "code",
   "execution_count": 3,
   "metadata": {},
   "outputs": [
    {
     "data": {
      "text/plain": [
       "(0.02820683238069932, 0.7612244897959184)"
      ]
     },
     "execution_count": 3,
     "metadata": {},
     "output_type": "execute_result"
    }
   ],
   "source": [
    "(exp_var, mse)"
   ]
  }
 ],
 "metadata": {
  "kernelspec": {
   "display_name": "Python 3",
   "language": "python",
   "name": "python3"
  },
  "language_info": {
   "codemirror_mode": {
    "name": "ipython",
    "version": 3
   },
   "file_extension": ".py",
   "mimetype": "text/x-python",
   "name": "python",
   "nbconvert_exporter": "python",
   "pygments_lexer": "ipython3",
   "version": "3.7.6"
  }
 },
 "nbformat": 4,
 "nbformat_minor": 4
}
