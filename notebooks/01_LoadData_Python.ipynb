{
 "cells": [
  {
   "cell_type": "markdown",
   "metadata": {},
   "source": [
    "### Load Data from remote server\n",
    "\n",
    "#### Output\n",
    "* winequality-red.csv"
   ]
  },
  {
   "cell_type": "markdown",
   "metadata": {},
   "source": [
    "#### Azure blob"
   ]
  },
  {
   "cell_type": "code",
   "execution_count": 1,
   "metadata": {},
   "outputs": [],
   "source": [
    "import os\n",
    "from azure.storage.blob import BlockBlobService"
   ]
  },
  {
   "cell_type": "code",
   "execution_count": 2,
   "metadata": {},
   "outputs": [
    {
     "data": {
      "text/plain": [
       "<azure.storage.blob.models.Blob at 0x1085a80d0>"
      ]
     },
     "execution_count": 2,
     "metadata": {},
     "output_type": "execute_result"
    }
   ],
   "source": [
    "# azure credentials\n",
    "# make sure the credentials are saved as environment variables.\n",
    "connect_str = os.getenv('AZURE_STORAGE_CONNECTION_STRING')\n",
    "\n",
    "# file and directory info\n",
    "container_name = 'datascience-data' \n",
    "file_name = 'winequality-red.csv'\n",
    "project_dir = os.path.dirname(os.getcwd())\n",
    "final_file_dir = os.path.join(project_dir, 'data/raw', file_name)\n",
    "\n",
    "# for azure.storage.blob 2.1.0\n",
    "blob = BlockBlobService(connection_string=connect_str)\n",
    "blob.get_blob_to_path(container_name, \n",
    "                      file_name, \n",
    "                      final_file_dir)\n",
    "\n",
    "# # for azure.storage.blob 12.0.2\n",
    "# blob = BlobClient.from_connection_string(conn_str=connect_str, \n",
    "#                                          container_name=container_name, \n",
    "#                                          blob_name=file_name)\n",
    "# # save the file to the assigned directory\n",
    "# final_file_dir = os.path.join(project_dir, 'data/raw', file_name)\n",
    "# with open(final_file_dir, \"wb\") as my_blob:\n",
    "#     blob_data = blob.download_blob()\n",
    "#     blob_data.readinto(my_blob)"
   ]
  },
  {
   "cell_type": "markdown",
   "metadata": {},
   "source": [
    "#### S3 bucket "
   ]
  },
  {
   "cell_type": "code",
   "execution_count": 3,
   "metadata": {},
   "outputs": [],
   "source": [
    "# import os\n",
    "# import boto3"
   ]
  },
  {
   "cell_type": "code",
   "execution_count": 4,
   "metadata": {},
   "outputs": [],
   "source": [
    "# # bucket credentials\n",
    "# # make sure the credentials are saved as environment variables.\n",
    "# access_key_id = os.environ['AWS_ACCESS_KEY_ID']\n",
    "# secret_access_key = os.environ['AWS_SECRET_ACCESS_KEY']\n",
    "# \n",
    "# # file and directory info\n",
    "# bucket_name = 'choux130' \n",
    "# file_name = 'winequality-red.csv'\n",
    "# project_dir = '/Users/chou/Desktop/mlflow_dvc_cookiecutter/DSProjectTemplate'\n",
    "# \n",
    "# s3 = boto3.client('s3', \n",
    "#                   aws_access_key_id = access_key_id, \n",
    "#                   aws_secret_access_key = secret_access_key)\n",
    "# \n",
    "# # save the file to the assigned directory\n",
    "# final_file_dir = os.path.join(project_dir, 'data/raw', file_name)\n",
    "# s3.download_file(bucket_name, 'DS_project_data/' + file_name, final_file_dir)"
   ]
  },
  {
   "cell_type": "markdown",
   "metadata": {},
   "source": [
    "#### URL (Use Github as an example)"
   ]
  },
  {
   "cell_type": "code",
   "execution_count": 5,
   "metadata": {},
   "outputs": [],
   "source": [
    "# import pandas as pd"
   ]
  },
  {
   "cell_type": "code",
   "execution_count": 6,
   "metadata": {},
   "outputs": [],
   "source": [
    "# csv_url = 'https://raw.githubusercontent.com/choux130/Wine-Quality-Dataset/master/winequality-red.csv'\n",
    "# data = pd.read_csv(csv_url, error_bad_lines = False)\n",
    "\n",
    "# # file and directory info\n",
    "# file_name = 'winequality-red.csv'\n",
    "# project_dir = '/Users/chou/Desktop/mlflow_dvc_cookiecutter/DSProjectTemplate'\n",
    "\n",
    "# # save the file to the assigned directory\n",
    "# final_file_dir = os.path.join(project_dir, 'data/raw', file_name)\n",
    "# data.to_csv(final_file_dir, index=None, header=True, float_format='%g')"
   ]
  }
 ],
 "metadata": {
  "jupytext": {
   "formats": "ipynb,auto:light"
  },
  "kernelspec": {
   "display_name": "Python3 (project_template)",
   "language": "python",
   "name": "project_template"
  },
  "language_info": {
   "codemirror_mode": {
    "name": "ipython",
    "version": 3
   },
   "file_extension": ".py",
   "mimetype": "text/x-python",
   "name": "python",
   "nbconvert_exporter": "python",
   "pygments_lexer": "ipython3",
   "version": "3.7.6"
  }
 },
 "nbformat": 4,
 "nbformat_minor": 4
}
