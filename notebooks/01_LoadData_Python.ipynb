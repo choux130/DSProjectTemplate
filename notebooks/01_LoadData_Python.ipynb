{
 "cells": [
  {
   "cell_type": "markdown",
   "metadata": {},
   "source": [
    "### Load Data from remote server\n",
    "\n",
    "\n",
    "#### S3 bucket "
   ]
  },
  {
   "cell_type": "code",
   "execution_count": 1,
   "metadata": {},
   "outputs": [],
   "source": [
    "import os\n",
    "import boto3"
   ]
  },
  {
   "cell_type": "code",
   "execution_count": 2,
   "metadata": {},
   "outputs": [],
   "source": [
    "# bucket credentials\n",
    "# make sure the credentials are saved as environment variables.\n",
    "access_key_id = os.environ['AWS_ACCESS_KEY_ID']\n",
    "secret_access_key = os.environ['AWS_SECRET_ACCESS_KEY']\n",
    "\n",
    "# file and directory info\n",
    "bucket_name = 'choux130' \n",
    "file_name = 'wine-quality.csv'\n",
    "project_dir = '/Users/chou/Desktop/mlflow_dvc_cookiecutter/DSProjectTemplate'\n",
    "\n",
    "s3 = boto3.client('s3', \n",
    "                  aws_access_key_id = access_key_id, \n",
    "                  aws_secret_access_key = secret_access_key)\n",
    "\n",
    "# save the file to the assigned directory\n",
    "final_file_dir = os.path.join(project_dir, 'data/raw', file_name)\n",
    "s3.download_file(bucket_name, 'DS_project_data/wine-quality.csv', final_file_dir)"
   ]
  },
  {
   "cell_type": "markdown",
   "metadata": {},
   "source": [
    "#### Azure blob"
   ]
  }
 ],
 "metadata": {
  "kernelspec": {
   "display_name": "Python 3",
   "language": "python",
   "name": "python3"
  },
  "language_info": {
   "codemirror_mode": {
    "name": "ipython",
    "version": 3
   },
   "file_extension": ".py",
   "mimetype": "text/x-python",
   "name": "python",
   "nbconvert_exporter": "python",
   "pygments_lexer": "ipython3",
   "version": "3.7.6"
  }
 },
 "nbformat": 4,
 "nbformat_minor": 4
}
